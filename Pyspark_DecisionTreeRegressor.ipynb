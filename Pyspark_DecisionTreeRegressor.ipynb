{
  "nbformat": 4,
  "nbformat_minor": 0,
  "metadata": {
    "kernelspec": {
      "display_name": "Python 3",
      "language": "python",
      "name": "python3"
    },
    "language_info": {
      "codemirror_mode": {
        "name": "ipython",
        "version": 3
      },
      "file_extension": ".py",
      "mimetype": "text/x-python",
      "name": "python",
      "nbconvert_exporter": "python",
      "pygments_lexer": "ipython3",
      "version": "3.7.3"
    },
    "colab": {
      "name": "Pyspark DecisionTreeRegressor.ipynb",
      "provenance": [],
      "include_colab_link": true
    }
  },
  "cells": [
    {
      "cell_type": "markdown",
      "metadata": {
        "id": "view-in-github",
        "colab_type": "text"
      },
      "source": [
        "<a href=\"https://colab.research.google.com/github/ramdatascience/Pyspark-Decision-Tree-Regressor/blob/master/Pyspark_DecisionTreeRegressor.ipynb\" target=\"_parent\"><img src=\"https://colab.research.google.com/assets/colab-badge.svg\" alt=\"Open In Colab\"/></a>"
      ]
    },
    {
      "cell_type": "code",
      "metadata": {
        "id": "oF2_NQy2v-J3",
        "colab_type": "code",
        "colab": {}
      },
      "source": [
        "from __future__ import print_function\n",
        "import findspark\n",
        "findspark.init()\n",
        "findspark.find()\n",
        "import pyspark\n",
        "findspark.find()\n",
        "from pyspark.sql import SparkSession\n",
        "from pyspark.ml.regression import DecisionTreeRegressor\n",
        "from pyspark.ml.feature import StandardScaler, VectorAssembler,VectorIndexer\n",
        "from pyspark.ml.evaluation import RegressionEvaluator"
      ],
      "execution_count": null,
      "outputs": []
    },
    {
      "cell_type": "code",
      "metadata": {
        "id": "rKDfRquJv-KW",
        "colab_type": "code",
        "colab": {}
      },
      "source": [
        "if __name__ == \"__main__\":\n",
        "    spark = SparkSession\\\n",
        "        .builder\\\n",
        "        .appName(\"DecisionTreeRegression\")\\\n",
        "        .getOrCreate()"
      ],
      "execution_count": null,
      "outputs": []
    },
    {
      "cell_type": "code",
      "metadata": {
        "id": "IJj6pBv0v-Kn",
        "colab_type": "code",
        "colab": {}
      },
      "source": [
        "dataset = spark.read.csv(\"Admission_Prediction.csv\",header=True)"
      ],
      "execution_count": null,
      "outputs": []
    },
    {
      "cell_type": "code",
      "metadata": {
        "id": "AVmaQGzrv-K1",
        "colab_type": "code",
        "colab": {},
        "outputId": "b2789926-f9f2-40d7-8704-aafe13ffdee5"
      },
      "source": [
        "dataset.show()"
      ],
      "execution_count": null,
      "outputs": [
        {
          "output_type": "stream",
          "text": [
            "+---------+-----------+-----------------+----+----+----+--------+---------------+\n",
            "|GRE Score|TOEFL Score|University Rating| SOP| LOR|CGPA|Research|Chance of Admit|\n",
            "+---------+-----------+-----------------+----+----+----+--------+---------------+\n",
            "|   337.00|     118.00|                4|4.50|4.50|9.65|    1.00|           0.92|\n",
            "|   324.00|     107.00|                4|4.00|4.50|8.87|    1.00|           0.76|\n",
            "|     null|     104.00|                3|3.00|3.50|8.00|    1.00|           0.72|\n",
            "|   322.00|     110.00|                3|3.50|2.50|8.67|    1.00|           0.80|\n",
            "|   314.00|     103.00|                2|2.00|3.00|8.21|    0.00|           0.65|\n",
            "|   330.00|     115.00|                5|4.50|3.00|9.34|    1.00|           0.90|\n",
            "|   321.00|     109.00|             null|3.00|4.00|8.20|    1.00|           0.75|\n",
            "|   308.00|     101.00|                2|3.00|4.00|7.90|    0.00|           0.68|\n",
            "|   302.00|     102.00|                1|2.00|1.50|8.00|    0.00|           0.50|\n",
            "|   323.00|     108.00|                3|3.50|3.00|8.60|    0.00|           0.45|\n",
            "|   325.00|     106.00|                3|3.50|4.00|8.40|    1.00|           0.52|\n",
            "|   327.00|     111.00|                4|4.00|4.50|9.00|    1.00|           0.84|\n",
            "|     null|     112.00|                4|4.00|4.50|9.10|    1.00|           0.78|\n",
            "|   307.00|     109.00|                3|4.00|3.00|8.00|    1.00|           0.62|\n",
            "|   311.00|     104.00|                3|3.50|2.00|8.20|    1.00|           0.61|\n",
            "|   314.00|     105.00|                3|3.50|2.50|8.30|    0.00|           0.54|\n",
            "|   317.00|     107.00|                3|4.00|3.00|8.70|    0.00|           0.66|\n",
            "|   319.00|     106.00|                3|4.00|3.00|8.00|    1.00|           0.65|\n",
            "|   318.00|     110.00|                3|4.00|3.00|8.80|    0.00|           0.63|\n",
            "|   303.00|     102.00|                3|3.50|3.00|8.50|    0.00|           0.62|\n",
            "+---------+-----------+-----------------+----+----+----+--------+---------------+\n",
            "only showing top 20 rows\n",
            "\n"
          ],
          "name": "stdout"
        }
      ]
    },
    {
      "cell_type": "code",
      "metadata": {
        "id": "nelZj7DTv-LC",
        "colab_type": "code",
        "colab": {},
        "outputId": "188e4f3e-d488-4e13-fd1d-8e24a0cf2461"
      },
      "source": [
        "dataset.printSchema()"
      ],
      "execution_count": null,
      "outputs": [
        {
          "output_type": "stream",
          "text": [
            "root\n",
            " |-- GRE Score: string (nullable = true)\n",
            " |-- TOEFL Score: string (nullable = true)\n",
            " |-- University Rating: string (nullable = true)\n",
            " |-- SOP: string (nullable = true)\n",
            " |-- LOR: string (nullable = true)\n",
            " |-- CGPA: string (nullable = true)\n",
            " |-- Research: string (nullable = true)\n",
            " |-- Chance of Admit: string (nullable = true)\n",
            "\n"
          ],
          "name": "stdout"
        }
      ]
    },
    {
      "cell_type": "code",
      "metadata": {
        "id": "eKQrxW_-v-LO",
        "colab_type": "code",
        "colab": {}
      },
      "source": [
        "from pyspark.sql.functions import col\n",
        "new_data = dataset.select(*(col(c).cast(\"float\").alias(c) for c in dataset.columns))"
      ],
      "execution_count": null,
      "outputs": []
    },
    {
      "cell_type": "code",
      "metadata": {
        "id": "Q73s8i_yv-Lb",
        "colab_type": "code",
        "colab": {},
        "outputId": "862723e4-fc54-4b94-d86e-64d0d3c1ee9e"
      },
      "source": [
        "new_data.printSchema()"
      ],
      "execution_count": null,
      "outputs": [
        {
          "output_type": "stream",
          "text": [
            "root\n",
            " |-- GRE Score: float (nullable = true)\n",
            " |-- TOEFL Score: float (nullable = true)\n",
            " |-- University Rating: float (nullable = true)\n",
            " |-- SOP: float (nullable = true)\n",
            " |-- LOR: float (nullable = true)\n",
            " |-- CGPA: float (nullable = true)\n",
            " |-- Research: float (nullable = true)\n",
            " |-- Chance of Admit: float (nullable = true)\n",
            "\n"
          ],
          "name": "stdout"
        }
      ]
    },
    {
      "cell_type": "code",
      "metadata": {
        "id": "0BRCRvpOv-Ll",
        "colab_type": "code",
        "colab": {}
      },
      "source": [
        "from pyspark.sql.functions import col, count, isnan, when"
      ],
      "execution_count": null,
      "outputs": []
    },
    {
      "cell_type": "code",
      "metadata": {
        "id": "PQh3WTSgv-Lu",
        "colab_type": "code",
        "colab": {},
        "outputId": "fa5b872c-6122-47f4-9d67-9c5b9a97fb5b"
      },
      "source": [
        "#checking for null ir nan type values in our columns\n",
        "new_data.select([count(when(col(c).isNull(), c)).alias(c) for c in new_data.columns]).show()"
      ],
      "execution_count": null,
      "outputs": [
        {
          "output_type": "stream",
          "text": [
            "+---------+-----------+-----------------+---+---+----+--------+---------------+\n",
            "|GRE Score|TOEFL Score|University Rating|SOP|LOR|CGPA|Research|Chance of Admit|\n",
            "+---------+-----------+-----------------+---+---+----+--------+---------------+\n",
            "|       15|         10|               15|  0|  0|   0|       0|              0|\n",
            "+---------+-----------+-----------------+---+---+----+--------+---------------+\n",
            "\n"
          ],
          "name": "stdout"
        }
      ]
    },
    {
      "cell_type": "code",
      "metadata": {
        "id": "ZJZCS8XYv-L3",
        "colab_type": "code",
        "colab": {}
      },
      "source": [
        "from pyspark.ml.feature import Imputer"
      ],
      "execution_count": null,
      "outputs": []
    },
    {
      "cell_type": "code",
      "metadata": {
        "id": "ibAhFRZyv-MA",
        "colab_type": "code",
        "colab": {}
      },
      "source": [
        "imputer = Imputer(inputCols=[\"GRE Score\", \"TOEFL Score\",\"University Rating\"], \n",
        "                  outputCols=[\"GRE Score\", \"TOEFL Score\",\"University Rating\"])\n",
        "model = imputer.fit(new_data)\n",
        "\n",
        "imputed_data = model.transform(new_data)"
      ],
      "execution_count": null,
      "outputs": []
    },
    {
      "cell_type": "code",
      "metadata": {
        "id": "a0Bh3k8sv-MK",
        "colab_type": "code",
        "colab": {},
        "outputId": "208a9e77-9b44-4018-898b-8eaa4493ea21"
      },
      "source": [
        "#checking for null ir nan type values in our columns\n",
        "imputed_data.select([count(when(col(c).isNull(), c)).alias(c) for c in imputed_data.columns]).show()"
      ],
      "execution_count": null,
      "outputs": [
        {
          "output_type": "stream",
          "text": [
            "+---------+-----------+-----------------+---+---+----+--------+---------------+\n",
            "|GRE Score|TOEFL Score|University Rating|SOP|LOR|CGPA|Research|Chance of Admit|\n",
            "+---------+-----------+-----------------+---+---+----+--------+---------------+\n",
            "|        0|          0|                0|  0|  0|   0|       0|              0|\n",
            "+---------+-----------+-----------------+---+---+----+--------+---------------+\n",
            "\n"
          ],
          "name": "stdout"
        }
      ]
    },
    {
      "cell_type": "code",
      "metadata": {
        "id": "qoQkNV7dv-MU",
        "colab_type": "code",
        "colab": {}
      },
      "source": [
        "features = imputed_data.drop('Chance of Admit')"
      ],
      "execution_count": null,
      "outputs": []
    },
    {
      "cell_type": "code",
      "metadata": {
        "id": "SPRnnQkev-Mf",
        "colab_type": "code",
        "colab": {}
      },
      "source": [
        "#let's assemble our features together using vectorAssembler\n",
        "assembler = VectorAssembler(\n",
        "    inputCols=features.columns,\n",
        "    outputCol=\"features\")"
      ],
      "execution_count": null,
      "outputs": []
    },
    {
      "cell_type": "code",
      "metadata": {
        "id": "zeoGWcycv-Mn",
        "colab_type": "code",
        "colab": {}
      },
      "source": [
        "output = assembler.transform(imputed_data)"
      ],
      "execution_count": null,
      "outputs": []
    },
    {
      "cell_type": "code",
      "metadata": {
        "id": "XmPWDvWCv-Mw",
        "colab_type": "code",
        "colab": {}
      },
      "source": [
        "featureIndexer =\\\n",
        "    VectorIndexer(inputCol=\"features\", outputCol=\"indexedFeatures\", maxCategories=4).fit(output)"
      ],
      "execution_count": null,
      "outputs": []
    },
    {
      "cell_type": "code",
      "metadata": {
        "id": "3NyE8FBmv-M3",
        "colab_type": "code",
        "colab": {}
      },
      "source": [
        "featureIndexer = featureIndexer.transform(output)"
      ],
      "execution_count": null,
      "outputs": []
    },
    {
      "cell_type": "code",
      "metadata": {
        "id": "rHBGqHO7v-M_",
        "colab_type": "code",
        "colab": {}
      },
      "source": [
        "new_indexed_data = featureIndexer.select(\"indexedFeatures\", \"Chance of Admit\")"
      ],
      "execution_count": null,
      "outputs": []
    },
    {
      "cell_type": "code",
      "metadata": {
        "id": "0sN1Mev6v-NF",
        "colab_type": "code",
        "colab": {}
      },
      "source": [
        "training, test = new_indexed_data.randomSplit([0.7, 0.3])"
      ],
      "execution_count": null,
      "outputs": []
    },
    {
      "cell_type": "code",
      "metadata": {
        "id": "QEJlxp4Qv-NO",
        "colab_type": "code",
        "colab": {},
        "outputId": "5807bb27-ce4f-4e9f-8ecf-e57a30d0205d"
      },
      "source": [
        "training.show()"
      ],
      "execution_count": null,
      "outputs": [
        {
          "output_type": "stream",
          "text": [
            "+--------------------+---------------+\n",
            "|     indexedFeatures|Chance of Admit|\n",
            "+--------------------+---------------+\n",
            "|[290.0,100.0,1.0,...|           0.47|\n",
            "|[290.0,104.0,4.0,...|           0.45|\n",
            "|[293.0,97.0,2.0,2...|           0.64|\n",
            "|[294.0,95.0,1.0,1...|           0.49|\n",
            "|[295.0,96.0,2.0,1...|           0.47|\n",
            "|[295.0,99.0,2.0,2...|           0.57|\n",
            "|[295.0,101.0,2.0,...|           0.69|\n",
            "|[296.0,95.0,2.0,3...|           0.44|\n",
            "|[296.0,99.0,2.0,3...|           0.47|\n",
            "|[297.0,96.0,2.0,2...|           0.43|\n",
            "|[297.0,96.0,2.0,2...|           0.34|\n",
            "|[297.0,98.0,2.0,2...|           0.59|\n",
            "|[297.0,99.0,4.0,3...|           0.54|\n",
            "|[297.0,101.0,3.0,...|           0.57|\n",
            "|[298.0,92.0,1.0,2...|           0.51|\n",
            "|[298.0,97.0,3.121...|           0.45|\n",
            "|[298.0,98.0,2.0,1...|           0.44|\n",
            "|[298.0,98.0,2.0,4...|           0.34|\n",
            "|[298.0,99.0,1.0,1...|           0.53|\n",
            "|[298.0,100.0,3.0,...|           0.58|\n",
            "+--------------------+---------------+\n",
            "only showing top 20 rows\n",
            "\n"
          ],
          "name": "stdout"
        }
      ]
    },
    {
      "cell_type": "code",
      "metadata": {
        "id": "slk5hkCev-NV",
        "colab_type": "code",
        "colab": {}
      },
      "source": [
        "# Train a DecisionTree model.\n",
        "dt = DecisionTreeRegressor(featuresCol=\"indexedFeatures\",labelCol=\"Chance of Admit\")"
      ],
      "execution_count": null,
      "outputs": []
    },
    {
      "cell_type": "code",
      "metadata": {
        "id": "oZo7U9Clv-Nh",
        "colab_type": "code",
        "colab": {}
      },
      "source": [
        "# Train model.  This also runs the indexer.\n",
        "model = dt.fit(training)"
      ],
      "execution_count": null,
      "outputs": []
    },
    {
      "cell_type": "code",
      "metadata": {
        "id": "F_Aob4TKv-Np",
        "colab_type": "code",
        "colab": {}
      },
      "source": [
        "# Make predictions.\n",
        "predictions = model.transform(test)"
      ],
      "execution_count": null,
      "outputs": []
    },
    {
      "cell_type": "code",
      "metadata": {
        "id": "hCCl5Drkv-Nu",
        "colab_type": "code",
        "colab": {},
        "outputId": "e0184498-92ed-47db-8c5c-0855e199d20e"
      },
      "source": [
        "predictions.show()"
      ],
      "execution_count": null,
      "outputs": [
        {
          "output_type": "stream",
          "text": [
            "+--------------------+---------------+------------------+\n",
            "|     indexedFeatures|Chance of Admit|        prediction|\n",
            "+--------------------+---------------+------------------+\n",
            "|[294.0,93.0,1.0,1...|           0.46|0.4499999989162792|\n",
            "|[295.0,93.0,1.0,2...|           0.46|0.4499999989162792|\n",
            "|[295.0,99.0,1.0,2...|           0.37|0.5015384577787839|\n",
            "|[296.0,97.0,2.0,1...|           0.49|0.4499999989162792|\n",
            "|[296.0,99.0,2.0,2...|           0.61|0.5799999833106995|\n",
            "|[296.0,101.0,1.0,...|            0.6|0.6899999976158142|\n",
            "|[297.0,100.0,1.0,...|           0.52|0.5799999833106995|\n",
            "|[298.0,101.0,4.0,...|           0.53|0.5855555468135409|\n",
            "|[298.0,107.187751...|           0.46|0.5337499864399433|\n",
            "|[299.0,100.0,1.0,...|           0.59|0.5843749959021807|\n",
            "|[299.0,100.0,3.0,...|           0.63|0.5843749959021807|\n",
            "|[299.0,100.0,3.0,...|           0.42|0.5015384577787839|\n",
            "|[300.0,99.0,1.0,3...|           0.36|0.5015384577787839|\n",
            "|[301.0,99.0,3.0,2...|           0.68|0.6822641491889954|\n",
            "|[301.0,102.0,3.0,...|           0.68|0.6506779678797318|\n",
            "|[301.0,104.0,2.0,...|           0.68|0.6506779678797318|\n",
            "|[301.0,104.0,3.0,...|           0.68|0.6506779678797318|\n",
            "|[302.0,99.0,1.0,2...|           0.57|0.5015384577787839|\n",
            "|[302.0,99.0,3.0,2...|           0.52|0.5015384577787839|\n",
            "|[302.0,101.0,2.0,...|           0.46|0.6506779678797318|\n",
            "+--------------------+---------------+------------------+\n",
            "only showing top 20 rows\n",
            "\n"
          ],
          "name": "stdout"
        }
      ]
    },
    {
      "cell_type": "code",
      "metadata": {
        "id": "VC7i4fFSv-N2",
        "colab_type": "code",
        "colab": {},
        "outputId": "88b8452c-61c1-40d9-f0d8-b1e9b0aa61a4"
      },
      "source": [
        "evaluator = RegressionEvaluator(\n",
        "    labelCol=\"Chance of Admit\", predictionCol=\"prediction\", metricName=\"rmse\")\n",
        "rmse = evaluator.evaluate(predictions)\n",
        "print (\"Root Mean Squared Error (RMSE) on test data = %g\" % rmse)"
      ],
      "execution_count": null,
      "outputs": [
        {
          "output_type": "stream",
          "text": [
            "Root Mean Squared Error (RMSE) on test data = 0.0807329\n"
          ],
          "name": "stdout"
        }
      ]
    },
    {
      "cell_type": "code",
      "metadata": {
        "id": "Yfq2ws4Lv-N9",
        "colab_type": "code",
        "colab": {}
      },
      "source": [
        "spark.stop()"
      ],
      "execution_count": null,
      "outputs": []
    },
    {
      "cell_type": "code",
      "metadata": {
        "id": "60kIo9nqv-OE",
        "colab_type": "code",
        "colab": {}
      },
      "source": [
        ""
      ],
      "execution_count": null,
      "outputs": []
    }
  ]
}